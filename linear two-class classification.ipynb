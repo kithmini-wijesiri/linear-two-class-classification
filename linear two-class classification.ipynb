{
  "nbformat": 4,
  "nbformat_minor": 0,
  "metadata": {
    "colab": {
      "provenance": []
    },
    "kernelspec": {
      "name": "python3",
      "display_name": "Python 3"
    },
    "language_info": {
      "name": "python"
    }
  },
  "cells": [
    {
      "cell_type": "code",
      "execution_count": 147,
      "metadata": {
        "id": "A8khDXCCZvkO"
      },
      "outputs": [],
      "source": [
        "# basic imports\n",
        "import sys\n",
        "sys.path.append('../')\n",
        "import matplotlib.pyplot as plt\n",
        "datapath = './'\n",
        "\n",
        "# import autograd wrapped numpy\n",
        "import autograd.numpy as np"
      ]
    },
    {
      "cell_type": "markdown",
      "source": [
        "Problem 1: Implementing sigmoidal Least Squares cost\n"
      ],
      "metadata": {
        "id": "8JEApo1SZ8hI"
      }
    },
    {
      "cell_type": "code",
      "source": [
        "# define sigmoid function\n",
        "def sigmoid(t):\n",
        "  #fill in a line of code below\n",
        "  return 1/(1 + np.exp(-t))\n",
        "# sigmoid non-convex logistic least squares cost function\n",
        "def sigmoid_least_squares(w):\n",
        "    cost = 0\n",
        "    for p in range(y.size):\n",
        "        x_p = x[:,p]\n",
        "        y_p = y[:,p]\n",
        "        # finish the following line of code\n",
        "        cost += (sigmoid(w[0] + w[1]*x_p) - y_p)**2\n",
        "    return cost/y.size"
      ],
      "metadata": {
        "id": "cGPJvhWBZ9nn"
      },
      "execution_count": 148,
      "outputs": []
    },
    {
      "cell_type": "code",
      "source": [
        "# using an automatic differentiator - like the one imported via the statement below - makes coding up gradient descent a breeze\n",
        "from autograd import numpy as np\n",
        "from autograd import value_and_grad \n",
        "\n",
        "# gradient descent function - inputs: g (input function), alpha (steplength parameter), max_its (maximum number of iterations), w (initialization)\n",
        "def gradient_descent(g,alpha_choice,max_its,w,version):\n",
        "    # compute the gradient function of our input function - note this is a function too\n",
        "    # that - when evaluated - returns both the gradient and function evaluations (remember\n",
        "    # as discussed in Chapter 3 we always ge the function evaluation 'for free' when we use\n",
        "    # an Automatic Differntiator to evaluate the gradient)\n",
        "    gradient = value_and_grad(g)\n",
        "\n",
        "    # run the gradient descent loop\n",
        "    weight_history = []      # container for weight history\n",
        "    cost_history = []        # container for corresponding cost function history\n",
        "    alpha = 0\n",
        "    for k in range(1,max_its+1):\n",
        "        # check if diminishing steplength rule used\n",
        "        if alpha_choice == 'diminishing':\n",
        "            alpha = 1/float(k)\n",
        "        else:\n",
        "            alpha = alpha_choice\n",
        "        \n",
        "        # evaluate the gradient, store current weights and cost function value\n",
        "        cost_eval,grad_eval = gradient(w)\n",
        "        weight_history.append(w)\n",
        "        cost_history.append(cost_eval)\n",
        "            \n",
        "        if version == 'full':\n",
        "            grad_norm = np.linalg.norm(grad_eval)\n",
        "            if grad_norm == 0:\n",
        "                grad_norm += 10**-6*np.sign(2*np.random.rand(1) - 1)\n",
        "            grad_eval /= grad_norm\n",
        "        \n",
        "        # normalize components\n",
        "        if version == 'component':\n",
        "            component_norm = np.abs(grad_eval) + 10**(-8)\n",
        "            grad_eval /= component_norm\n",
        "            \n",
        "        if version == 'none':\n",
        "            grad_eval = grad_eval\n",
        "\n",
        "        # take gradient descent step\n",
        "        w = w - alpha*grad_eval\n",
        "            \n",
        "    # collect final weights\n",
        "    weight_history.append(w)\n",
        "    # compute final cost function value via g itself (since we aren't computing \n",
        "    # the gradient at the final step we don't get the final cost function value \n",
        "    # via the Automatic Differentiatoor) \n",
        "    cost_history.append(g(w))  \n",
        "    return weight_history,cost_history"
      ],
      "metadata": {
        "id": "OGupGG_ga04M"
      },
      "execution_count": 149,
      "outputs": []
    },
    {
      "cell_type": "code",
      "source": [
        "# load in data\n",
        "csvname = datapath + '2d_classification_data_v1_entropy.csv'\n",
        "data = np.loadtxt(csvname,delimiter = ',')\n",
        "\n",
        "# get input/output pairs\n",
        "x = data[:-1,:]\n",
        "y = data[-1:,:] \n",
        "\n",
        "# run normalized gradient descent\n",
        "w = np.asarray([-20.0,20.0])[:,np.newaxis]\n",
        "w_hist, cost_history = gradient_descent(g = sigmoid_least_squares,w = w,version = 'normalized',max_its = 900, alpha_choice = 1)"
      ],
      "metadata": {
        "id": "E0uoxwspa7dV"
      },
      "execution_count": 150,
      "outputs": []
    },
    {
      "cell_type": "code",
      "source": [
        "x"
      ],
      "metadata": {
        "colab": {
          "base_uri": "https://localhost:8080/"
        },
        "id": "28mCQqOsbBBN",
        "outputId": "295e7142-f2f7-4cb0-94a3-4bee02c78e91"
      },
      "execution_count": 151,
      "outputs": [
        {
          "output_type": "execute_result",
          "data": {
            "text/plain": [
              "array([[-0.12945952,  0.17126776,  0.18900687,  0.62817746,  0.98698383,\n",
              "         1.1       ,  1.4       ,  4.        ,  4.3       ,  4.5       ,\n",
              "         4.7       ]])"
            ]
          },
          "metadata": {},
          "execution_count": 151
        }
      ]
    },
    {
      "cell_type": "code",
      "source": [
        "x.shape"
      ],
      "metadata": {
        "colab": {
          "base_uri": "https://localhost:8080/"
        },
        "id": "3Qc7rg9ubDdZ",
        "outputId": "cfe4c929-50f3-46bf-db46-7fae3d808749"
      },
      "execution_count": 152,
      "outputs": [
        {
          "output_type": "execute_result",
          "data": {
            "text/plain": [
              "(1, 11)"
            ]
          },
          "metadata": {},
          "execution_count": 152
        }
      ]
    },
    {
      "cell_type": "code",
      "source": [
        "y"
      ],
      "metadata": {
        "colab": {
          "base_uri": "https://localhost:8080/"
        },
        "id": "L0hfiZF1bFqo",
        "outputId": "3ef18570-807d-4c73-b1cd-d730a74fb81f"
      },
      "execution_count": 153,
      "outputs": [
        {
          "output_type": "execute_result",
          "data": {
            "text/plain": [
              "array([[0., 0., 0., 0., 0., 1., 1., 1., 1., 1., 1.]])"
            ]
          },
          "metadata": {},
          "execution_count": 153
        }
      ]
    },
    {
      "cell_type": "code",
      "source": [
        "y.shape"
      ],
      "metadata": {
        "colab": {
          "base_uri": "https://localhost:8080/"
        },
        "id": "LjN8P8UhbGhy",
        "outputId": "052ae177-e4af-4dd8-cf44-47b637a2af14"
      },
      "execution_count": 154,
      "outputs": [
        {
          "output_type": "execute_result",
          "data": {
            "text/plain": [
              "(1, 11)"
            ]
          },
          "metadata": {},
          "execution_count": 154
        }
      ]
    },
    {
      "cell_type": "code",
      "source": [
        "w = w_hist[-1]"
      ],
      "metadata": {
        "id": "PrcrnTcCbJos"
      },
      "execution_count": 155,
      "outputs": []
    },
    {
      "cell_type": "code",
      "source": [
        "w.shape"
      ],
      "metadata": {
        "colab": {
          "base_uri": "https://localhost:8080/"
        },
        "id": "qW1Ey-BHbMGt",
        "outputId": "95dd8daa-a328-4def-af57-0aa321d76cc5"
      },
      "execution_count": 156,
      "outputs": [
        {
          "output_type": "execute_result",
          "data": {
            "text/plain": [
              "(2, 1)"
            ]
          },
          "metadata": {},
          "execution_count": 156
        }
      ]
    },
    {
      "cell_type": "code",
      "source": [
        "w"
      ],
      "metadata": {
        "colab": {
          "base_uri": "https://localhost:8080/"
        },
        "id": "ooh9vi4HbOFv",
        "outputId": "6f4770b3-f1d1-470e-ded4-4a6e687a8761"
      },
      "execution_count": 157,
      "outputs": [
        {
          "output_type": "execute_result",
          "data": {
            "text/plain": [
              "array([[-20.83037981],\n",
              "       [ 19.98355293]])"
            ]
          },
          "metadata": {},
          "execution_count": 157
        }
      ]
    },
    {
      "cell_type": "code",
      "source": [
        "def model(x, w):\n",
        "  a = w[0] + np.dot(x.T, w[1:])\n",
        "  return a.T"
      ],
      "metadata": {
        "id": "6RFVHje1bQXY"
      },
      "execution_count": 158,
      "outputs": []
    },
    {
      "cell_type": "code",
      "source": [
        "y_pred = (model(x, w) > 0).astype(int)"
      ],
      "metadata": {
        "id": "cS5Fdn7BbSXr"
      },
      "execution_count": 159,
      "outputs": []
    },
    {
      "cell_type": "code",
      "source": [
        "y_pred"
      ],
      "metadata": {
        "colab": {
          "base_uri": "https://localhost:8080/"
        },
        "id": "VHRFivRNbUQm",
        "outputId": "2d38fde6-0dae-454d-a79d-e2473cf5b313"
      },
      "execution_count": 160,
      "outputs": [
        {
          "output_type": "execute_result",
          "data": {
            "text/plain": [
              "array([[0, 0, 0, 0, 0, 1, 1, 1, 1, 1, 1]])"
            ]
          },
          "metadata": {},
          "execution_count": 160
        }
      ]
    },
    {
      "cell_type": "code",
      "source": [
        "%matplotlib inline\n",
        "import matplotlib.pyplot as plt\n",
        "\n",
        "plt.plot(cost_history);\n",
        "plt.xlabel(\"k\");\n",
        "plt.ylabel(\"g(w^k)\");"
      ],
      "metadata": {
        "colab": {
          "base_uri": "https://localhost:8080/",
          "height": 279
        },
        "id": "OL0h1yKLbWjB",
        "outputId": "bbc4bc86-27bc-4a6e-ef9c-17112f1f20fb"
      },
      "execution_count": 161,
      "outputs": [
        {
          "output_type": "display_data",
          "data": {
            "text/plain": [
              "<Figure size 432x288 with 1 Axes>"
            ],
            "image/png": "[encoded data removed]"
          },
          "metadata": {
            "needs_background": "light"
          }
        }
      ]
    },
    {
      "cell_type": "code",
      "source": [
        "# plot data with linear fit \n",
        "s = np.linspace(np.min(x),np.max(x))\n",
        "w = w_hist[-1]\n",
        "t = (w[0] + w[1]*s > 0).astype(int)\n",
        "\n",
        "figure = plt.figure()\n",
        "plt.plot(s,t,linewidth = 1,color = 'r')\n",
        "plt.scatter(x,y,linewidth = 1,c='k',edgecolor='w')\n",
        "plt.xlabel('x')\n",
        "plt.ylabel('y')\n",
        "plt.show()"
      ],
      "metadata": {
        "colab": {
          "base_uri": "https://localhost:8080/",
          "height": 279
        },
        "id": "Buvdqy67bZ7m",
        "outputId": "a1b5d3bd-c3ab-4764-d761-13995e0a5d60"
      },
      "execution_count": 162,
      "outputs": [
        {
          "output_type": "display_data",
          "data": {
            "text/plain": [
              "<Figure size 432x288 with 1 Axes>"
            ],
            "image/png": "[encoded data removed]"
          },
          "metadata": {
            "needs_background": "light"
          }
        }
      ]
    },
    {
      "cell_type": "markdown",
      "source": [
        "Problem 2: Implementing the Cross Entropy cost"
      ],
      "metadata": {
        "id": "fv7kkvCnbhEK"
      }
    },
    {
      "cell_type": "code",
      "source": [
        "# compute linear combination of input point\n",
        "def model(x,w):\n",
        "  # finish the function implementation\n",
        "  a = w[0] + np.dot(x.T,w[1:])\n",
        "  return a.T"
      ],
      "metadata": {
        "id": "oO_kRUIAbiT7"
      },
      "execution_count": 163,
      "outputs": []
    },
    {
      "cell_type": "code",
      "source": [
        "# define sigmoid function\n",
        "def sigmoid(t):\n",
        "  # fill in one line of code below\n",
        "    return 1/(1 + np.exp(-t))\n",
        "\n",
        "# the convex cross-entropy cost function\n",
        "def cross_entropy(w):\n",
        "    # compute sigmoid of model\n",
        "    a = sigmoid(model(x,w))\n",
        "    \n",
        "    # compute cost of label 0 points\n",
        "    ind = np.argwhere(y == 0)[:,1]\n",
        "    # fill in one line of code below\n",
        "    cost = -np.sum(np.log(1 - a[:,ind]))\n",
        "    \n",
        "    # add cost on label 1 points\n",
        "    ind = np.argwhere(y==1)[:,1]\n",
        "    # fill in one line of code below\n",
        "    cost -= np.sum(np.log(a[:,ind]))\n",
        "    \n",
        "    # compute cross-entropy\n",
        "    return cost/y.size"
      ],
      "metadata": {
        "id": "QQFJfHwdbtrT"
      },
      "execution_count": 164,
      "outputs": []
    },
    {
      "cell_type": "code",
      "source": [
        "# take input/output pairs from data\n",
        "x = data[:-1,:]\n",
        "y = data[-1:,:] \n",
        "\n",
        "# run gradient descent to minimize the softmax cost\n",
        "g = cross_entropy; w = np.array([3.0,3.0])[:,np.newaxis]; max_its = 100; alpha_choice = 10**(0);\n",
        "weight_history,cost_history = gradient_descent(g,alpha_choice,max_its,w, version = 'normalized')"
      ],
      "metadata": {
        "id": "7KmMFX3mb8ne"
      },
      "execution_count": 165,
      "outputs": []
    },
    {
      "cell_type": "code",
      "source": [
        "%matplotlib inline\n",
        "import matplotlib.pyplot as plt\n",
        "\n",
        "plt.plot(cost_history);\n",
        "plt.xlabel(\"k\");\n",
        "plt.ylabel(\"g(w^k)\");"
      ],
      "metadata": {
        "colab": {
          "base_uri": "https://localhost:8080/",
          "height": 279
        },
        "id": "wzxWsLm7b_QS",
        "outputId": "e7cfa386-8006-42bc-a068-127947508073"
      },
      "execution_count": 166,
      "outputs": [
        {
          "output_type": "display_data",
          "data": {
            "text/plain": [
              "<Figure size 432x288 with 1 Axes>"
            ],
            "image/png": "[encoded data removed]"
          },
          "metadata": {
            "needs_background": "light"
          }
        }
      ]
    },
    {
      "cell_type": "code",
      "source": [
        "# plot data with linear fit \n",
        "s = np.linspace(np.min(x),np.max(x))\n",
        "w = w_hist[-1]\n",
        "t = (w[0] + w[1]*s > 0).astype(int)\n",
        "\n",
        "figure = plt.figure()\n",
        "plt.plot(s,t,linewidth = 1,color = 'r')\n",
        "plt.scatter(x,y,linewidth = 1,c='k',edgecolor='w')\n",
        "plt.xlabel('x')\n",
        "plt.ylabel('y')\n",
        "plt.show()"
      ],
      "metadata": {
        "colab": {
          "base_uri": "https://localhost:8080/",
          "height": 279
        },
        "id": "eGdscj-4cDEu",
        "outputId": "e6a742c3-4457-4a72-db84-a84f26c89934"
      },
      "execution_count": 167,
      "outputs": [
        {
          "output_type": "display_data",
          "data": {
            "text/plain": [
              "<Figure size 432x288 with 1 Axes>"
            ],
            "image/png": "[encoded data removed]"
          },
          "metadata": {
            "needs_background": "light"
          }
        }
      ]
    },
    {
      "cell_type": "markdown",
      "source": [
        "Problem 3: Implementing the Softmax cost"
      ],
      "metadata": {
        "id": "AniqfX1_cGgd"
      }
    },
    {
      "cell_type": "code",
      "source": [
        "# compute linear combination of input point\n",
        "def model(x,w):\n",
        "  # finish the function implementation\n",
        "  a = w[0] + np.dot(x.T,w[1:])\n",
        "  return a.T"
      ],
      "metadata": {
        "id": "EsVADatmcFzc"
      },
      "execution_count": 168,
      "outputs": []
    },
    {
      "cell_type": "code",
      "source": [
        "# the convex softmax cost function\n",
        "def softmax(w):\n",
        "  # finish the function implementation\n",
        "  cost = np.sum(np.log(1 + np.exp(-y*model(x,w))))\n",
        "  return cost/float(np.size(y))"
      ],
      "metadata": {
        "id": "mdjtaw1Idj_1"
      },
      "execution_count": 169,
      "outputs": []
    },
    {
      "cell_type": "code",
      "source": [
        "# load in data\n",
        "csvname = datapath + '2d_classification_data_v1.csv'\n",
        "data = np.loadtxt(csvname,delimiter = ',')\n",
        "\n",
        "# take input/output pairs from data\n",
        "x = data[:-1,:]\n",
        "y = data[-1:,:] \n",
        "\n",
        "# run gradient descent to minimize the softmax cost\n",
        "g = softmax; w = np.array([3.0,3.0])[:,np.newaxis]; max_its = 100; alpha_choice = 1;\n",
        "weight_history,cost_history = gradient_descent(g,alpha_choice,max_its,w, version = 'normalized')"
      ],
      "metadata": {
        "id": "F_1tV439drcp"
      },
      "execution_count": 170,
      "outputs": []
    },
    {
      "cell_type": "code",
      "source": [
        "# plot data with linear fit \n",
        "s = np.linspace(np.min(x),np.max(x))\n",
        "w = w_hist[-1]\n",
        "t = np.sign(w[0] + w[1]*s)\n",
        "figure = plt.figure()\n",
        "plt.plot(s,t,linewidth = 1,color = 'r')\n",
        "plt.scatter(x,y,linewidth = 1,c='k',edgecolor='w')\n",
        "plt.xlabel('x')\n",
        "plt.ylabel('y')\n",
        "plt.show()"
      ],
      "metadata": {
        "colab": {
          "base_uri": "https://localhost:8080/",
          "height": 279
        },
        "id": "qbIqod4Tdtur",
        "outputId": "49fb7f1e-f005-4a5e-9ad7-cb1d9fd5edf6"
      },
      "execution_count": 171,
      "outputs": [
        {
          "output_type": "display_data",
          "data": {
            "text/plain": [
              "<Figure size 432x288 with 1 Axes>"
            ],
            "image/png": "[encoded data removed]"
          },
          "metadata": {
            "needs_background": "light"
          }
        }
      ]
    },
    {
      "cell_type": "markdown",
      "source": [
        "Problem 4: Implementing the Log Error version of Softmax"
      ],
      "metadata": {
        "id": "EQeNM9jCdxER"
      }
    },
    {
      "cell_type": "code",
      "source": [
        "# define sigmoid function\n",
        "def sigmoid(t):\n",
        "  # fill in one line of code below\n",
        "    return 1/(1 + np.exp(-t))\n",
        "\n",
        "# the convex cross-entropy cost function\n",
        "def softmax(w):\n",
        "    # compute sigmoid of model\n",
        "    a = sigmoid(model(x,w))\n",
        "    \n",
        "    # compute cost of label 0 points\n",
        "    ind = np.argwhere(y == -1)[:,1]\n",
        "    # finish the following line of code\n",
        "    cost = -np.sum(np.log(1 - a[:,ind]))\n",
        "    \n",
        "    # add cost on label 1 points\n",
        "    ind = np.argwhere(y==+1)[:,1]\n",
        "    # finish the following line of code\n",
        "    cost -= np.sum(np.log(a[:,ind]))\n",
        "    \n",
        "    # compute cross-entropy\n",
        "    return cost/y.size"
      ],
      "metadata": {
        "id": "Etsh8ZANdxod"
      },
      "execution_count": 172,
      "outputs": []
    },
    {
      "cell_type": "code",
      "source": [
        "# load in dataset\n",
        "data = np.loadtxt(datapath + '3d_classification_data_v0.csv',delimiter = ',')\n"
      ],
      "metadata": {
        "id": "qNOATdGleUfL"
      },
      "execution_count": 173,
      "outputs": []
    },
    {
      "cell_type": "code",
      "source": [
        "# get input/output pairs\n",
        "x = data[:-1,:]\n",
        "y = data[-1:,:] \n",
        "\n",
        "# run gradient descent to minimize the softmax cost\n",
        "g = softmax; w = np.random.randn(3,1); max_its = 100; alpha_choice = 1;\n",
        "weight_history,cost_history = gradient_descent(g,alpha_choice,max_its,w, version = 'normalized')"
      ],
      "metadata": {
        "id": "tOPbJk1YeYSv"
      },
      "execution_count": 174,
      "outputs": []
    },
    {
      "cell_type": "code",
      "source": [
        "%matplotlib inline\n",
        "import matplotlib.pyplot as plt\n",
        "\n",
        "plt.plot(cost_history);\n",
        "plt.xlabel(\"k\");\n",
        "plt.ylabel(\"g(w^k)\");"
      ],
      "metadata": {
        "colab": {
          "base_uri": "https://localhost:8080/",
          "height": 283
        },
        "id": "0EepASJ_MKpQ",
        "outputId": "d7ebba5d-12b3-4189-c8a6-979d92ffd032"
      },
      "execution_count": 175,
      "outputs": [
        {
          "output_type": "display_data",
          "data": {
            "text/plain": [
              "<Figure size 432x288 with 1 Axes>"
            ],
            "image/png": "[encoded data removed]"
          },
          "metadata": {
            "needs_background": "light"
          }
        }
      ]
    },
    {
      "cell_type": "markdown",
      "source": [
        "Problem 5: Using gradient descent to minimize the Perceptron cost"
      ],
      "metadata": {
        "id": "cEfSx8LEuII1"
      }
    },
    {
      "cell_type": "code",
      "source": [
        "data = np.loadtxt(datapath + '3d_classification_data_v0.csv',delimiter = ',')\n",
        "x = data[:-1,:]\n",
        "y = data[-1:,:] "
      ],
      "metadata": {
        "id": "i_d4bmN1uIzs"
      },
      "execution_count": 176,
      "outputs": []
    },
    {
      "cell_type": "code",
      "source": [
        "# compute linear combination of input points\n",
        "def model(x,w):\n",
        "  # finish the function implementation\n",
        "    a = w[0] + np.dot(x.T,w[1:])\n",
        "    return a.T\n"
      ],
      "metadata": {
        "id": "QO_FAp2TuaGS"
      },
      "execution_count": 177,
      "outputs": []
    },
    {
      "cell_type": "code",
      "source": [
        "# an implementation of the perceptron cost\n",
        "def perceptron(w):    \n",
        "    # compute the least squares cost\n",
        "    # finish the implementation\n",
        "    cost = np.sum(np.maximum(0, -y * model(x,w))) \n",
        "    return cost/float(np.size(y))\n"
      ],
      "metadata": {
        "id": "Rfnq_9tW_ha5"
      },
      "execution_count": 178,
      "outputs": []
    },
    {
      "cell_type": "code",
      "source": [
        "# setup optimizer input (besides cost)\n",
        "alpha = 10**(-1)\n",
        "max_its = 50\n",
        "w = 0.1*np.random.randn(2+1,1)\n",
        "\n",
        "\n",
        "# run gradient descent to minimize the Least Squares cost for linear regression\n",
        "g = perceptron;\n",
        "weight_history_1,cost_history_1 = gradient_descent(g,alpha,max_its,w,version = 'normalized')\n",
        "alpha = 10**(-2)\n",
        "weight_history_2,cost_history_2 = gradient_descent(g,alpha,max_its,w,version = 'normalized')"
      ],
      "metadata": {
        "id": "Wbhvc7O_vWFD"
      },
      "execution_count": 179,
      "outputs": []
    },
    {
      "cell_type": "code",
      "source": [
        "### cost functions ###\n",
        "def counting_cost(w,x,y):\n",
        "    # compute predicted labels\n",
        "    y_hat = np.sign(model(x,w))\n",
        "\n",
        "    # compare to true labels\n",
        "    ind = np.argwhere(y != y_hat)\n",
        "    ind = [v[1] for v in ind]\n",
        "\n",
        "    cost = np.sum(len(ind))\n",
        "    return cost"
      ],
      "metadata": {
        "id": "GNSVN2NXvXG3"
      },
      "execution_count": 180,
      "outputs": []
    },
    {
      "cell_type": "code",
      "source": [
        "count_history_1 = [counting_cost(v,x,y) for v in weight_history_1]\n",
        "count_history_2 = [counting_cost(v,x,y) for v in weight_history_2]"
      ],
      "metadata": {
        "id": "_fnLfvA3vZZS"
      },
      "execution_count": 181,
      "outputs": []
    },
    {
      "cell_type": "code",
      "source": [
        "%matplotlib inline\n",
        "import matplotlib.pyplot as plt\n",
        "\n",
        "plt.plot(cost_history_1);\n",
        "plt.plot(cost_history_2);\n",
        "plt.xlabel(\"k\");\n",
        "plt.ylabel(\"cost function\");\n",
        "plt.legend([\"alpha = 0.01\", \"alpha = 0.001\"]);"
      ],
      "metadata": {
        "colab": {
          "base_uri": "https://localhost:8080/",
          "height": 279
        },
        "id": "6yJO8XNivcvq",
        "outputId": "2c15676b-5088-4e06-adba-6b855fbb1226"
      },
      "execution_count": 182,
      "outputs": [
        {
          "output_type": "display_data",
          "data": {
            "text/plain": [
              "<Figure size 432x288 with 1 Axes>"
            ],
            "image/png": "[encoded data removed]"
          },
          "metadata": {
            "needs_background": "light"
          }
        }
      ]
    },
    {
      "cell_type": "code",
      "source": [
        "%matplotlib inline\n",
        "import matplotlib.pyplot as plt\n",
        "\n",
        "plt.plot(count_history_1);\n",
        "plt.plot(count_history_2);\n",
        "plt.xlabel(\"k\");\n",
        "plt.ylabel(\"miss classifications\");\n",
        "plt.legend([\"alpha = 0.01\", \"alpha = 0.001\"]);"
      ],
      "metadata": {
        "colab": {
          "base_uri": "https://localhost:8080/",
          "height": 279
        },
        "id": "Ao365K2Qwocg",
        "outputId": "3e89047f-3fb2-4d52-8b4f-7b839eb2a6d2"
      },
      "execution_count": 183,
      "outputs": [
        {
          "output_type": "display_data",
          "data": {
            "text/plain": [
              "<Figure size 432x288 with 1 Axes>"
            ],
            "image/png": "[encoded data removed]"
          },
          "metadata": {
            "needs_background": "light"
          }
        }
      ]
    }
  ]
}